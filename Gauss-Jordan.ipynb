{
 "cells": [
  {
   "cell_type": "code",
   "execution_count": 1,
   "id": "a3b3fbcb",
   "metadata": {},
   "outputs": [],
   "source": [
    "import numpy as np\n",
    "import copy"
   ]
  },
  {
   "cell_type": "code",
   "execution_count": 2,
   "id": "bea43aa2",
   "metadata": {},
   "outputs": [],
   "source": [
    "def identity_matrix(n): #tạo ma trận đơn vị cấp n\n",
    "    I = np.zeros((n,n))\n",
    "    for i in range(n):\n",
    "        for j in range(n):\n",
    "            if i == j:\n",
    "                I[i][j] = 1\n",
    "            else:\n",
    "                I[i][j] = 0\n",
    "    return I"
   ]
  },
  {
   "cell_type": "code",
   "execution_count": 3,
   "id": "ec2e343e",
   "metadata": {},
   "outputs": [],
   "source": [
    "def add_matrix(A,B): #tạo ma trận bổ sung\n",
    "    R = A.copy()\n",
    "    for i in range(len(B)):\n",
    "        for j in range(len(B[0])):\n",
    "             R[i].append(B[i][j])\n",
    "    return R"
   ]
  },
  {
   "cell_type": "code",
   "execution_count": 4,
   "id": "72aed1a0",
   "metadata": {},
   "outputs": [],
   "source": [
    "def mul_scalar_vector(k, x): #nhân hằng số k cho vector x\n",
    "    y = []\n",
    "    for num in x:\n",
    "        num *= k\n",
    "        y.append(round(num, 4))\n",
    "    return y"
   ]
  },
  {
   "cell_type": "code",
   "execution_count": 5,
   "id": "9be1009a",
   "metadata": {},
   "outputs": [],
   "source": [
    "def plus_row(A,i,j,alpha): #cộng dòng i với dòng j đã nhân với alpha cho trước\n",
    "    for k in range(len(A[0])):\n",
    "        A[i][k] = round(A[i][k] + alpha*A[j][k],4)\n",
    "    return"
   ]
  },
  {
   "cell_type": "code",
   "execution_count": 6,
   "id": "47294909",
   "metadata": {},
   "outputs": [],
   "source": [
    "def swap_row(A, i, j): #hoán vị dòng i, j\n",
    "    A[i], A[j] = A[j], A[i]\n",
    "    return"
   ]
  },
  {
   "cell_type": "code",
   "execution_count": 7,
   "id": "e6ae181b",
   "metadata": {},
   "outputs": [],
   "source": [
    "def col_zero(A,col,prow): #kiểm tra cột bằng 0\n",
    "    check = True\n",
    "    for i in range(prow,len(A)):\n",
    "        if A[i][col] != 0:\n",
    "            check = False\n",
    "            break        \n",
    "    return check"
   ]
  },
  {
   "cell_type": "code",
   "execution_count": 8,
   "id": "4f658c1e",
   "metadata": {},
   "outputs": [],
   "source": [
    "def row_zero(A,pcol,row): #kiểm tra dòng bằng 0\n",
    "    check = True\n",
    "    n_col = int(len(A[0])/2)\n",
    "    for i in range(pcol,n_col):\n",
    "        if A[row][i] != 0:\n",
    "            check = False\n",
    "            break        \n",
    "    return check"
   ]
  },
  {
   "cell_type": "code",
   "execution_count": 9,
   "id": "1403bc15",
   "metadata": {},
   "outputs": [],
   "source": [
    "def inverse(A): #tìm ma trận nghịch đảo\n",
    "    n_row = len(A)\n",
    "    n_col = len(A[0])\n",
    "    \n",
    "    #kiểm tra ma trận vuông\n",
    "    if n_row != n_col:\n",
    "        print('Ma trận không vuông')\n",
    "        return\n",
    "    \n",
    "    #tạo ma trận bổ sung\n",
    "    I = identity_matrix(n_row)\n",
    "    R = add_matrix(A,I)\n",
    "    \n",
    "    row = 0\n",
    "    while row < n_row:\n",
    "        col = row\n",
    "        #kiểm tra cột toàn bằng 0, nếu bằng 0 thì chuyển qua cột tiếp theo\n",
    "        while col < n_col and col_zero(R,col,row):\n",
    "            col += 1\n",
    "        if col == n_col:\n",
    "            break\n",
    "        #hoán vị dòng với dòng có cột khác 0 tìm được\n",
    "        for pivot in range(row,n_row):\n",
    "            if R[pivot][col] != 0:\n",
    "                swap_row(R,row,pivot)\n",
    "                break\n",
    "                \n",
    "        #nhân dòng với nghịch đảo của ô dòng, cột đang xét để đưa về ma trận đơn vị\n",
    "        R[row] = mul_scalar_vector(1/R[row][col],R[row])\n",
    "        \n",
    "        #trừ dòng dưới với dòng hiện tại\n",
    "        for i in range(row+1,n_row):\n",
    "            plus_row(R,i,row,-R[i][col])\n",
    "            if row_zero(R,0,i) or col_zero(R,i,0):\n",
    "                print('Ma trận không khả nghịch')\n",
    "                return\n",
    "         \n",
    "        #trừ dòng trên với dòng hiện tại\n",
    "        for i in range(0,row):\n",
    "            plus_row(R,i,row,-R[i][col])\n",
    "            \n",
    "        row += 1\n",
    "    \n",
    "    A_inverse = []\n",
    "    \n",
    "    #gán ma trận nghịch đảo\n",
    "    for i in range(len(R)):\n",
    "        A_inverse.append([])\n",
    "        for j in range(n_col,len(R[0])):\n",
    "            A_inverse[i].append(R[i][j])\n",
    "    \n",
    "    return A_inverse"
   ]
  },
  {
   "cell_type": "code",
   "execution_count": 10,
   "id": "885779f7",
   "metadata": {},
   "outputs": [
    {
     "name": "stdout",
     "output_type": "stream",
     "text": [
      "Enter size of matrix: 3\n",
      "Enter row A[0]:\n",
      "A[0][0]=1\n",
      "A[0][1]=2\n",
      "A[0][2]=1\n",
      "Enter row A[1]:\n",
      "A[1][0]=3\n",
      "A[1][1]=7\n",
      "A[1][2]=3\n",
      "Enter row A[2]:\n",
      "A[2][0]=2\n",
      "A[2][1]=3\n",
      "A[2][2]=4\n",
      "[[9.5, -2.5, -0.5], [-3.0, 1.0, 0.0], [-2.5, 0.5, 0.5]]\n"
     ]
    }
   ],
   "source": [
    "n = int(input('Enter size of matrix: '))\n",
    "A = []\n",
    "for i in range(n):\n",
    "    A.append([])\n",
    "    print('Enter row A[%d]:' %(i))\n",
    "    for j in range(n):\n",
    "        A[i].append(float(input( 'A['+str(i)+']['+ str(j)+']=')))\n",
    "\n",
    "A_inverse = inverse(A)\n",
    "print(A_inverse)"
   ]
  },
  {
   "cell_type": "code",
   "execution_count": null,
   "id": "ff1987eb",
   "metadata": {},
   "outputs": [],
   "source": []
  }
 ],
 "metadata": {
  "kernelspec": {
   "display_name": "Python 3 (ipykernel)",
   "language": "python",
   "name": "python3"
  },
  "language_info": {
   "codemirror_mode": {
    "name": "ipython",
    "version": 3
   },
   "file_extension": ".py",
   "mimetype": "text/x-python",
   "name": "python",
   "nbconvert_exporter": "python",
   "pygments_lexer": "ipython3",
   "version": "3.9.12"
  }
 },
 "nbformat": 4,
 "nbformat_minor": 5
}
